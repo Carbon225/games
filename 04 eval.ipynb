{
 "cells": [
  {
   "cell_type": "code",
   "execution_count": 1,
   "metadata": {},
   "outputs": [],
   "source": [
    "import jax\n",
    "import jax.numpy as jnp\n",
    "import chex\n",
    "from chex import PRNGKey\n",
    "import optax\n",
    "from flax import nnx\n",
    "import pickle\n",
    "\n",
    "from modeling.connect_four import ConnectFourNetwork\n",
    "from modeling.common import NetworkVariables\n",
    "from evaluation import make_az_policy, make_mcts_policy, random_policy, evaluate_pvp"
   ]
  },
  {
   "cell_type": "code",
   "execution_count": 2,
   "metadata": {},
   "outputs": [],
   "source": [
    "model = ConnectFourNetwork(rngs=nnx.Rngs(0))\n",
    "with open('model.pkl', 'rb') as f:\n",
    "    graphdef, state = nnx.split(model)\n",
    "    state.replace_by_pure_dict(pickle.load(f))\n",
    "    model = nnx.merge(graphdef, state)\n",
    "model.eval()\n",
    "variables = model.split()"
   ]
  },
  {
   "cell_type": "code",
   "execution_count": 3,
   "metadata": {},
   "outputs": [],
   "source": [
    "# evaluate_pvp(jax.random.key(0), make_az_policy(variables, 4), make_mcts_policy(128), 64)"
   ]
  },
  {
   "cell_type": "code",
   "execution_count": 4,
   "metadata": {},
   "outputs": [],
   "source": [
    "# evaluate_pvp(jax.random.key(0), make_az_policy(variables, 8), make_mcts_policy(256), 64)"
   ]
  },
  {
   "cell_type": "code",
   "execution_count": 5,
   "metadata": {},
   "outputs": [],
   "source": [
    "# evaluate_pvp(jax.random.key(0), make_az_policy(variables, 16), make_mcts_policy(128), 64)"
   ]
  },
  {
   "cell_type": "code",
   "execution_count": 6,
   "metadata": {},
   "outputs": [
    {
     "data": {
      "text/plain": [
       "(Array(0.5890411, dtype=float32),\n",
       " Array(0.02739726, dtype=float32),\n",
       " Array(0.38356164, dtype=float32))"
      ]
     },
     "execution_count": 6,
     "metadata": {},
     "output_type": "execute_result"
    }
   ],
   "source": [
    "evaluate_pvp(jax.random.key(0), make_az_policy(variables, 32), make_mcts_policy(256), 64)"
   ]
  },
  {
   "cell_type": "code",
   "execution_count": 7,
   "metadata": {},
   "outputs": [],
   "source": [
    "# evaluate_pvp(jax.random.key(0), make_az_policy(variables, 32), make_mcts_policy(512), 64)"
   ]
  }
 ],
 "metadata": {
  "kernelspec": {
   "display_name": ".venv",
   "language": "python",
   "name": "python3"
  },
  "language_info": {
   "codemirror_mode": {
    "name": "ipython",
    "version": 3
   },
   "file_extension": ".py",
   "mimetype": "text/x-python",
   "name": "python",
   "nbconvert_exporter": "python",
   "pygments_lexer": "ipython3",
   "version": "3.10.14"
  }
 },
 "nbformat": 4,
 "nbformat_minor": 2
}
